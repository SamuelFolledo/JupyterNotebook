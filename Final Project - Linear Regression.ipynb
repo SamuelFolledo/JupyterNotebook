{
 "cells": [
  {
   "cell_type": "markdown",
   "metadata": {},
   "source": [
    "# Final Project - Linear Regression\n",
    "## [Instructions](https://github.com/Make-School-Courses/QL-1.1/blob/master/Final_Project/Final_Project.ipynb)"
   ]
  },
  {
   "cell_type": "markdown",
   "metadata": {},
   "source": [
    "## Final Project: Linear Regression\n",
    "\t•\tWe want to present the relationship between (two) variables linearly ",
    "\n",
    "\t•\tFor example, recall the running distance and drinking water ",
    "\n",
    "\t•\tWe are interested to obtain the best line describing by y_pred[i] = w_1 x[i] +w_0 that maps running distance to drinking water ",
    "\n",
    "\t•\tBelow, list x represents running distance in miles and list y represents the drinking water in litres ",
    "\n",
    "    \n",
    "\n",
    "For linear relationship, mean-square-error (MSE) represents if is it a good line (good model) or not\n",
    "$y[i]$ and $y_{pred}[i]$ are i-th element of list y and list y_pred respectively where y_pred[i] = w_1 * x[i] + w_0\n",
    "Define error as: $E[i] = y_{pred}[i] - y[i]$\n",
    "Define mean-square-error as: $MSE = \\frac{1}{N} \\sum_{i=0}^{N-1} E[i]^2$\n",
    "Also mean-square-error is equal to: $MSE = \\frac{1}{N} \\sum_{i=0}^{N-1} (y_{pred}[i] - y[i])^2$\n",
    "The parameter $N$ is: $N = len(y)$\n",
    "\n",
    "\n",
    "## Questions\n",
    "### Question 1: Obtain the MSE for the following two lines:\n",
    "1- y_pred[i] = 0.7*x[i] + 0.3\n",
    "2- y_pred[i] = 0.25163494*x[i] + 0.79880123\n",
    "Hint: Your function take four input arguments: 1- y, 2- x, 3- slope, 4-intercept\n",
    "In [ ]:\n",
    "def min_sq_error(y, x, w1, w0):\n",
    "    y_pred = ...\n",
    "    sum_squared_error = ...\n",
    "    N = len(y)\n",
    "    mse = sum_squared_error/N\n",
    "    return mse\n",
    "\n",
    "print(min_sq_error(y, x, 0.7, 0.3))\n",
    "print(min_sq_error(y, x, 0.25163494, 0.79880123))\n",
    "\n",
    "\n",
    "### Question 2: Obtain the best line (Coding is not required)\n",
    "\t•\tIn order the best line, we want to obtain which slope (￼) and intercept (￼) minimize the mean-square-error (MSE) ",
    "\n",
    "\t•\tFor this part, you need to use partial derivative and you use derivative table ",
    "\n",
    "\t•\tFor this part, write down the steps and the solution on a paper\n",
    "\n",
    "<img src=\"https://github.com/SamuelFolledo/Math-Functions/blob/master/screenshots/bestLine.jpg\" width=\"727\" height=\"1276\">\n",
    "\n",
    "### Question 3: Write a code to return the slope and intercept with given list x and y\n",
    "\t\n",
    "In [ ]:\n",
    "def slope_intercept_LR(x, y):\n",
    "    w1 = ...\n",
    "    w0 = ...\n",
    "    return w1, w0\n",
    "\n",
    "print(slope_intercept_LR(x, y))\n",
    "\n",
    "### Question 4: After obtain the best line, obtain the variance and mean of error\n",
    "\t•\tIn Question 3, we have obtained the best line\n",
    "\t•\tSo, we can error list which its element is: ￼\n",
    "\t•\tWrite a function that calculate variance and mean of list ￼\n",
    "\t•\tPlot the distribution of the error for optimal line\n",
    "\n",
    "\n",
    "### Question 5: (Optional but Bonus point) In almost all applications, we update the slope and intercept through iteration\n",
    "\t•\tInstead of putting the ￼ ￼\n",
    "\t▪\tInitialize the ￼ and ￼ with arbitrary value, then update them by follwing Gradient Updating Rule:\n",
    "\t▪\t￼\n",
    "\t▪\t￼\n",
    "In [ ]:\n",
    "import numpy as np\n",
    "\n",
    "w_0 = np.random.randn()\n",
    "w_1 = np.random.randn()\n",
    "step = 0.01\n",
    "epoch = 5000\n",
    "for _ in range(epoch):\n",
    "    w_1 = w_1 - step*...\n",
    "    w_0 = w_0 - step*...\n",
    "print(w_1)\n",
    "print(w_0)\n"
   ]
  },
  {
   "cell_type": "code",
   "execution_count": 66,
   "metadata": {},
   "outputs": [
    {
     "data": {
      "text/plain": [
       "Text(0, 0.5, 'Water Drinks (Litre)')"
      ]
     },
     "execution_count": 66,
     "metadata": {},
     "output_type": "execute_result"
    },
    {
     "data": {
      "image/png": "[encoded data removed]",
      "text/plain": [
       "<Figure size 432x288 with 1 Axes>"
      ]
     },
     "metadata": {
      "needs_background": "light"
     },
     "output_type": "display_data"
    }
   ],
   "source": [
    "import numpy as np\n",
    "import matplotlib.pyplot as plt\n",
    "import seaborn as sns # for question 4\n",
    "\n",
    "# Running Distance in Mile\n",
    "x = np.array([3.3,4.4,5.5,6.71,6.93,4.168,9.779,6.182,7.59,2.167,\n",
    "                         7.042,10.791,5.313,7.997,5.654,9.27,3.1])\n",
    "\n",
    "# Water Drinks in Litre\n",
    "y = np.array([1.7,2.76,2.09,3.19,1.694,1.573,3.366,2.596,2.53,1.221,\n",
    "                         2.827,3.465,1.65,2.904,2.42,2.94,1.3])\n",
    "\n",
    "plt.scatter(x, y)\n",
    "plt.xlabel('Running Distance (Mile)')\n",
    "plt.ylabel('Water Drinks (Litre)')"
   ]
  },
  {
   "cell_type": "markdown",
   "metadata": {},
   "source": [
    "# Question 1"
   ]
  },
  {
   "cell_type": "code",
   "execution_count": 67,
   "metadata": {},
   "outputs": [],
   "source": [
    "def min_sq_error(y, x, w1, w0): #w1 = slope && w0 = intercept\n",
    "    y_pred = [w1*num+w0 for num in x]\n",
    "    # print(y_pred)\n",
    "    sum_squared_error = sum([(y_element - y_pred_element)**2 for y_element,y_pred_element in zip(y,y_pred)])\n",
    "    N = len(y)\n",
    "    mse = sum_squared_error/N\n",
    "    return mse\n"
   ]
  },
  {
   "cell_type": "markdown",
   "metadata": {},
   "source": [
    "# Question 2 - Derivatives of MSE in respect to Slope and in Y_Intercept "
   ]
  },
  {
   "cell_type": "markdown",
   "metadata": {},
   "source": [
    "### In Paper\n",
    "<img src='https://github.com/SamuelFolledo/Data-Science-Functions/blob/master/screenshots/bestLine.jpg?raw=true'>"
   ]
  },
  {
   "cell_type": "markdown",
   "metadata": {},
   "source": [
    "### Helper Functions"
   ]
  },
  {
   "cell_type": "code",
   "execution_count": 171,
   "metadata": {},
   "outputs": [],
   "source": [
    "## Mean function\n",
    "def get_mean(arr):\n",
    "    return sum([i for i in arr]) / len(arr)\n",
    "\n",
    "# Slope-Intercept line plotter\n",
    "def plot_slope_intercept(slope, intercept):\n",
    "    \"\"\"Plot a line from slope and intercept\"\"\"\n",
    "    axes = plt.gca()\n",
    "    x_vals = np.array(axes.get_xlim())\n",
    "    y_vals = intercept + slope * x_vals\n",
    "    plt.plot(x_vals, y_vals, '--r')"
   ]
  },
  {
   "cell_type": "markdown",
   "metadata": {},
   "source": [
    "# Question 3 Obtaining the best line that fit"
   ]
  },
  {
   "cell_type": "code",
   "execution_count": 172,
   "metadata": {},
   "outputs": [
    {
     "name": "stdout",
     "output_type": "stream",
     "text": [
      "Slope = 0.2516349442835528\n",
      "Y_Intercept = 0.798801226175397\n",
      "Mean Squared Error = 0.1538576740419109\n",
      "Sorted y-predictions = [1.34409415 1.57886955 1.62919654 1.84761567 1.90599498 2.13573769\n",
      " 2.18279342 2.2215452  2.35440845 2.4872717  2.54263139 2.5708145\n",
      " 2.70871045 2.81112588 3.13145716 3.25953935 3.51419391]\n"
     ]
    },
    {
     "data": {
      "image/png": "[encoded data removed]",
      "text/plain": [
       "<Figure size 432x288 with 1 Axes>"
      ]
     },
     "metadata": {
      "needs_background": "light"
     },
     "output_type": "display_data"
    }
   ],
   "source": [
    "def slope_intercept_LR(x, y):\n",
    "    x_bar = get_mean(x)\n",
    "    y_bar = get_mean(y)\n",
    "    x_y_bar = sum([(i*j) for i,j in zip(x,y)]) / len(x)\n",
    "    x_squared_bar = sum([i**2 for i in x]) / len(x)\n",
    "    x_bar_squared = x_bar**2\n",
    "    w1 = (x_y_bar - y_bar*x_bar) / (x_squared_bar - x_bar_squared)\n",
    "    w0 = y_bar - w1*x_bar\n",
    "    return w1, w0\n",
    "\n",
    "#Output\n",
    "slope_and_intercept = slope_intercept_LR(x, y)\n",
    "slope = slope_and_intercept[0] #w1 = slope\n",
    "y_intercept = slope_and_intercept[1] #w0 = y_intercept\n",
    "print(f'Slope = {slope}\\nY_Intercept = {y_intercept}')\n",
    "\n",
    "\n",
    "######################### Plot #########################\n",
    "line_graph_figure = plt.figure() #The outer container \n",
    "\n",
    "#Let's customize our chart!\n",
    "#Give it a title\n",
    "line_graph_axes.set_title('Linear Regression Line graph - Relationship Between Running Distance to Water Needed')\n",
    "#Always label your axis or no one will be able to understand what the chart is showing\n",
    "line_graph_axes.set_xlabel('Running Distance (Mile)')\n",
    "line_graph_axes.set_ylabel('Water Drinks (Litre)')\n",
    "\n",
    "#Setup Plot graph\n",
    "plt.title('Linear Regression Line graph - Relationship Between Running Distance to Water Needed',fontsize=24)\n",
    "plt.xlabel('Running Distance (Mile)',fontsize=14)\n",
    "plt.ylabel('Water Drinks (Litre)',fontsize=14)\n",
    "\n",
    "# Plot x and y\n",
    "plt.scatter(x, y)\n",
    "# plot_slope_intercept(slope, y_intercept) # function call replaced by predicted_y_values\n",
    "predicted_y_values = list(map(lambda x_element: slope * x_element + y_intercept, x)) #given x list, get y_pred\n",
    "plt.plot(x, predicted_y_values, 'ro-')\n",
    "# plt.show()\n",
    "\n",
    "print(f'Mean Squared Error = {min_sq_error(y, x, slope, y_intercept)}')\n",
    "print(f'Sorted y-predictions = {np.sort(predicted_y_values)}')"
   ]
  },
  {
   "cell_type": "code",
   "execution_count": null,
   "metadata": {},
   "outputs": [],
   "source": []
  },
  {
   "cell_type": "markdown",
   "metadata": {},
   "source": [
    "# Question 4 Error\n",
    "#### Errors, Error Variance, Error Mean, and Error Plots"
   ]
  },
  {
   "cell_type": "code",
   "execution_count": 180,
   "metadata": {},
   "outputs": [
    {
     "name": "stdout",
     "output_type": "stream",
     "text": [
      "\n",
      "ERRORS = [0.07080345768887875, 0.8540050189769703, -0.09279341973493782, 0.7027282976819635, -0.8486313900604179, -0.27461567394924513, 0.10646065367573998, 0.24159154826367946, -0.1787104532875632, -0.12309415043785576, 0.2561854961798238, -0.04919390993921535, -0.485737685153913, 0.09287412438903075, 0.19845479884539508, -0.19145715968393118, -0.2788695534544108]\n",
      "\n",
      "VARIANCE of errors = 0.16347377866953036\n",
      "\n",
      "MEAN of errors = -4.963349992441876e-16\n"
     ]
    },
    {
     "data": {
      "text/plain": [
       "Text(0, 0.5, 'Frequency')"
      ]
     },
     "execution_count": 180,
     "metadata": {},
     "output_type": "execute_result"
    },
    {
     "data": {
      "image/png": "[encoded data removed]",
      "text/plain": [
       "<Figure size 432x288 with 1 Axes>"
      ]
     },
     "metadata": {
      "needs_background": "light"
     },
     "output_type": "display_data"
    }
   ],
   "source": [
    "# ERRORS Error[i] = y_pred[i] - y[i] \n",
    "errors = [(i-j) for i, j in zip(y, predicted_y_values)] #Error = vertical distance between y and y_pred\n",
    "print(f'\\nERRORS = {errors}')\n",
    "# VARIANCE of errors\n",
    "errors_variance = np.var(errors, ddof=1)\n",
    "print(f'\\nVARIANCE of errors = {errors_variance}')\n",
    "# MEAN of errors\n",
    "errors_mean = get_mean(errors)\n",
    "print(f'\\nMEAN of errors = {errors_mean}')\n",
    "\n",
    "# PLOT\n",
    "sns.distplot(errors, hist=True, kde=False, bins=8)\n",
    "plt.title('Error Value and Frequency Histogram of Error[i] = y_pred[i] - y[i]',fontsize=24)\n",
    "plt.xlabel('Error Value',fontsize=16)\n",
    "plt.ylabel('Frequency',fontsize=16)"
   ]
  },
  {
   "cell_type": "code",
   "execution_count": 181,
   "metadata": {},
   "outputs": [
    {
     "data": {
      "text/plain": [
       "Text(0, 0.5, 'Frequency')"
      ]
     },
     "execution_count": 181,
     "metadata": {},
     "output_type": "execute_result"
    },
    {
     "data": {
      "image/png": "[encoded data removed]",
      "text/plain": [
       "<Figure size 432x288 with 1 Axes>"
      ]
     },
     "metadata": {
      "needs_background": "light"
     },
     "output_type": "display_data"
    }
   ],
   "source": [
    "sns.distplot(errors, hist=True, kde=True, bins=4)\n",
    "plt.title('Error Value and Frequency Histogram with KDE of Error[i] = y_pred[i] - y[i]',fontsize=24)\n",
    "plt.xlabel('Error Value',fontsize=16)\n",
    "plt.ylabel('Frequency',fontsize=16)"
   ]
  },
  {
   "cell_type": "code",
   "execution_count": null,
   "metadata": {},
   "outputs": [],
   "source": []
  },
  {
   "cell_type": "markdown",
   "metadata": {},
   "source": [
    "# Question 5 In almost all applications, we update the slope and intercept through iteration\n"
   ]
  },
  {
   "cell_type": "code",
   "execution_count": 199,
   "metadata": {},
   "outputs": [
    {
     "name": "stdout",
     "output_type": "stream",
     "text": [
      "0.2518501528008149\n",
      "0.7972755310946711\n"
     ]
    }
   ],
   "source": [
    "w_0 = np.random.randn()\n",
    "w_1 = np.random.randn()\n",
    "step = 0.01\n",
    "epoch = 5000 #we are assuming that iteration is 5000, that's why we use while loop in the next example\n",
    "\n",
    "# From \n",
    "x_bar = get_mean(x)\n",
    "y_bar = get_mean(y)\n",
    "x_y_bar = sum([(i*j) for i,j in zip(x,y)]) / len(x)\n",
    "x_squared_bar = sum([i**2 for i in x]) / len(x)\n",
    "# x_bar_squared = x_bar**2\n",
    "# w1 = (x_y_bar - y_bar*x_bar) / (x_squared_bar - x_bar_squared)\n",
    "# w0 = y_bar - w1*x_bar\n",
    "\n",
    "for _ in range(epoch):\n",
    "    w_1 = w_1 - step * (w_1*x_squared_bar + w_0*x_bar - x_y_bar)\n",
    "    w_0 = w_0 - step * (w_1*x_bar + w_0 - y_bar)\n",
    "print(w_1)\n",
    "print(w_0)"
   ]
  },
  {
   "cell_type": "code",
   "execution_count": null,
   "metadata": {},
   "outputs": [],
   "source": []
  },
  {
   "cell_type": "code",
   "execution_count": 185,
   "metadata": {},
   "outputs": [
    {
     "name": "stdout",
     "output_type": "stream",
     "text": [
      "LinregressResult(slope=0.25163494428355404, intercept=0.7988012261753894, rvalue=0.8323917528894436, pvalue=3.391952640710616e-05, stderr=0.0432568020417479)\n"
     ]
    }
   ],
   "source": [
    "# Test Question 5\n",
    "from scipy import stats\n",
    "\n",
    "print(stats.linregress(x, y))"
   ]
  },
  {
   "cell_type": "markdown",
   "metadata": {},
   "source": [
    "# Milad's better solution for Question #5"
   ]
  },
  {
   "cell_type": "code",
   "execution_count": 200,
   "metadata": {},
   "outputs": [
    {
     "name": "stdout",
     "output_type": "stream",
     "text": [
      "0.2518148717820322\n",
      "0.7975256826676757\n",
      "2907\n"
     ]
    }
   ],
   "source": [
    "# optional reading\n",
    "# It is better to have while loop, if |J(w1,w0) at n+1 ietration - J(w1,w0) at n ietration|<=eps stop the while loop\n",
    "import numpy as np\n",
    "# Running Distance in Mile\n",
    "x = np.array([3.3,4.4,5.5,6.71,6.93,4.168,9.779,6.182,7.59,2.167,\n",
    "                         7.042,10.791,5.313,7.997,5.654,9.27,3.1])\n",
    "# Water Drinks in Litre\n",
    "y = np.array([1.7,2.76,2.09,3.19,1.694,1.573,3.366,2.596,2.53,1.221,\n",
    "                         2.827,3.465,1.65,2.904,2.42,2.94,1.3])\n",
    "N = len(y)\n",
    "xx_bar = np.mean([i*i for i in x])\n",
    "xy_bar = np.mean([i*j for i, j in zip(x, y)])                  \n",
    "x_bar = np.mean(x)\n",
    "y_bar = np.mean(y) \n",
    "w_0 = np.random.randn()\n",
    "w_1 = np.random.randn()\n",
    "iteration = 0 \n",
    "while True if iteration == 0 else np.abs(E2 - E1) >= 0.000000001: #this infinite loop will stop if 'np.abs(E2 - E1) >= 0.000000001' == false\n",
    "    y_pred = [w_1*i + w_0 for i in x]\n",
    "    error  = [(i-j) for i,j in zip(y_pred, y)]\n",
    "    sum_squared_error = sum([(i-j)**2 for i,j in zip(y_pred, y)])\n",
    "    E1 = sum_squared_error/N \n",
    "    w_1 = w_1 - 0.01*(2*w_1*xx_bar + 2*w_0*x_bar-2*xy_bar)\n",
    "    w_0 = w_0 - 0.01*(2*w_1*x_bar+2*w_0-2*y_bar)  \n",
    "    y_pred = [w_1*i + w_0 for i in x]\n",
    "    error  = [(i-j) for i,j in zip(y_pred, y)]\n",
    "    sum_squared_error = sum([(i-j)**2 for i,j in zip(y_pred, y)])\n",
    "    E2 = sum_squared_error/N \n",
    "    iteration += 1\n",
    "print(w_1)\n",
    "print(w_0)\n",
    "print(iteration)"
   ]
  },
  {
   "cell_type": "code",
   "execution_count": null,
   "metadata": {},
   "outputs": [],
   "source": []
  },
  {
   "cell_type": "code",
   "execution_count": null,
   "metadata": {},
   "outputs": [],
   "source": []
  }
 ],
 "metadata": {
  "kernelspec": {
   "display_name": "Python 3",
   "language": "python",
   "name": "python3"
  },
  "language_info": {
   "codemirror_mode": {
    "name": "ipython",
    "version": 3
   },
   "file_extension": ".py",
   "mimetype": "text/x-python",
   "name": "python",
   "nbconvert_exporter": "python",
   "pygments_lexer": "ipython3",
   "version": "3.7.4"
  }
 },
 "nbformat": 4,
 "nbformat_minor": 2
}
