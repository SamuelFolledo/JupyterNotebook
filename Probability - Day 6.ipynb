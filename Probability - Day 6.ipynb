{
 "cells": [
  {
   "cell_type": "code",
   "execution_count": 45,
   "metadata": {},
   "outputs": [
    {
     "name": "stdout",
     "output_type": "stream",
     "text": [
      "0.15384615384615385\n"
     ]
    }
   ],
   "source": [
    "spam = {\n",
    "    \"password\": 2,\n",
    "    \"review\": 1,\n",
    "    \"send\": 3,\n",
    "    \"us\": 3,\n",
    "    \"your\": 3,\n",
    "    \"account\": 1\n",
    "}\n",
    "p_password_given_spam = spam[\"password\"] / sum(spam.values())\n",
    "print(p_password_given_spam)"
   ]
  },
  {
   "cell_type": "code",
   "execution_count": 8,
   "metadata": {},
   "outputs": [
    {
     "name": "stdout",
     "output_type": "stream",
     "text": [
      "0.16666666666666666\n"
     ]
    }
   ],
   "source": [
    "ham = {\n",
    "    \"password\": 1,\n",
    "    \"review\": 2,\n",
    "    \"send\": 1,\n",
    "    \"us\": 1,\n",
    "    \"your\": 1,\n",
    "    \"account\": 0\n",
    "}\n",
    "p_password_given_ham = ham['password']/sum(ham.values())\n",
    "print(p_password_given_ham)"
   ]
  },
  {
   "cell_type": "code",
   "execution_count": 9,
   "metadata": {},
   "outputs": [
    {
     "name": "stdout",
     "output_type": "stream",
     "text": [
      "0.1581196581196581\n",
      "0.6486486486486487\n"
     ]
    }
   ],
   "source": [
    "p_spam = 4/6\n",
    "p_ham = 2/6\n",
    "p_password = p_password_given_spam*p_spam + p_password_given_ham*p_ham \n",
    "print(p_password)\n",
    "p_spam_given_password = p_password_given_spam*p_spam/p_password\n",
    "print(p_spam_given_password)"
   ]
  },
  {
   "cell_type": "markdown",
   "metadata": {},
   "source": [
    "# Activity"
   ]
  },
  {
   "cell_type": "code",
   "execution_count": 46,
   "metadata": {},
   "outputs": [
    {
     "name": "stdout",
     "output_type": "stream",
     "text": [
      "password\n",
      "review\n",
      "send\n",
      "us\n",
      "your\n",
      "account\n"
     ]
    }
   ],
   "source": [
    "p_spam = 4/6\n",
    "p_ham = 2/6\n",
    "ls1 = []\n",
    "ls2 = []\n",
    "for i in spam:\n",
    "    print(i)\n",
    "    p_word_given_spam = spam[i] / sum(spam.values())\n",
    "    p_word_given_ham = ham[i] / sum(ham.values())\n",
    "    # obtain the probability of each word by assuming the email is spam\n",
    "    # obtain the probability of each word by assuming the email is ham \n",
    "    \n",
    "    #TODO\n",
    "    ls1.append([p_word_given_spam, p_word_given_ham])\n",
    "    ls2.append([(p_word_given_spam*p_spam) / (p_word_given_spam*p_spam + p_word_given_ham*p_ham),  ])\n",
    "    # obtain the probability that for a seen word it belongs to spam email\n",
    "    # obtain the probability that for a seen word it belongs to ham email\n",
    "    \n",
    "    #TODO"
   ]
  },
  {
   "cell_type": "code",
   "execution_count": 70,
   "metadata": {},
   "outputs": [],
   "source": [
    "def wordProbabilityInData(dataset):\n",
    "    result = []\n",
    "    for word in dataset:\n",
    "        total_word_frequency = dataset[word]\n",
    "        word_probability = total_word_frequency / sum(dataset.values())\n",
    "        result.append((word, word_probability))\n",
    "    return result"
   ]
  },
  {
   "cell_type": "code",
   "execution_count": 71,
   "metadata": {},
   "outputs": [
    {
     "name": "stdout",
     "output_type": "stream",
     "text": [
      "('password', 0.15384615384615385)\n",
      "('review', 0.07692307692307693)\n",
      "('send', 0.23076923076923078)\n",
      "('us', 0.23076923076923078)\n",
      "('your', 0.23076923076923078)\n",
      "('account', 0.07692307692307693)\n"
     ]
    }
   ],
   "source": [
    "spams = wordProbabilityInData(spam)\n",
    "for item in spams:\n",
    "    print(item)"
   ]
  },
  {
   "cell_type": "code",
   "execution_count": 72,
   "metadata": {},
   "outputs": [
    {
     "name": "stdout",
     "output_type": "stream",
     "text": [
      "('password', 0.16666666666666666)\n",
      "('review', 0.3333333333333333)\n",
      "('send', 0.16666666666666666)\n",
      "('us', 0.16666666666666666)\n",
      "('your', 0.16666666666666666)\n",
      "('account', 0.0)\n"
     ]
    }
   ],
   "source": [
    "hams = wordProbabilityInData(ham)\n",
    "for item in hams:\n",
    "    print(item)"
   ]
  },
  {
   "cell_type": "code",
   "execution_count": null,
   "metadata": {},
   "outputs": [],
   "source": []
  }
 ],
 "metadata": {
  "kernelspec": {
   "display_name": "Python 3",
   "language": "python",
   "name": "python3"
  },
  "language_info": {
   "codemirror_mode": {
    "name": "ipython",
    "version": 3
   },
   "file_extension": ".py",
   "mimetype": "text/x-python",
   "name": "python",
   "nbconvert_exporter": "python",
   "pygments_lexer": "ipython3",
   "version": "3.7.4"
  }
 },
 "nbformat": 4,
 "nbformat_minor": 2
}
