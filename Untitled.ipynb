{
 "cells": [
  {
   "cell_type": "code",
   "execution_count": 1,
   "metadata": {},
   "outputs": [],
   "source": [
    "import numpy as np"
   ]
  },
  {
   "cell_type": "code",
   "execution_count": 75,
   "metadata": {},
   "outputs": [],
   "source": [
    "data = np.array([1,3,5,2,3,7,8,4,10,0,6,7,3,0,3,0,5,7,10,1,4,9,3])"
   ]
  },
  {
   "cell_type": "code",
   "execution_count": 50,
   "metadata": {},
   "outputs": [],
   "source": [
    "def compute_mean(dataset):\n",
    "    return np.mean(dataset)"
   ]
  },
  {
   "cell_type": "code",
   "execution_count": 51,
   "metadata": {},
   "outputs": [
    {
     "data": {
      "text/plain": [
       "4.391304347826087"
      ]
     },
     "execution_count": 51,
     "metadata": {},
     "output_type": "execute_result"
    }
   ],
   "source": [
    "compute_mean(data)"
   ]
  },
  {
   "cell_type": "code",
   "execution_count": 52,
   "metadata": {},
   "outputs": [
    {
     "name": "stdout",
     "output_type": "stream",
     "text": [
      "[ 0  0  0  1  1  2  3  3  3  3  3  4  4  5  5  6  7  7  7  8  9 10 10]\n"
     ]
    }
   ],
   "source": [
    "print(np.sort(data))"
   ]
  },
  {
   "cell_type": "code",
   "execution_count": 73,
   "metadata": {},
   "outputs": [],
   "source": [
    "def compute_median(dataset):\n",
    "    count = len(dataset)\n",
    "    sortedData = np.sort(dataset)\n",
    "    if count < 1: #if the length of data set is 0, then return None\n",
    "        return None\n",
    "    \n",
    "    if count % 2 == 1: #length of dataset is odd\n",
    "        return np.median(sortedData)\n",
    "    else: #length of dataset is even, then get the average of the 2 middle\n",
    "        firstElement = sortedData[count // 2]\n",
    "        secondElement = sortedData[count // 2 - 1]\n",
    "        print(firstElement)\n",
    "        print(secondElement)\n",
    "#         compute_mean([sortedData[firstElement], sortedData[secondElement]])\n",
    "        median = (firstElement + secondElement) / 2\n",
    "        return median\n"
   ]
  },
  {
   "cell_type": "code",
   "execution_count": 77,
   "metadata": {},
   "outputs": [
    {
     "name": "stdout",
     "output_type": "stream",
     "text": [
      "22\n",
      "4\n",
      "3\n"
     ]
    },
    {
     "data": {
      "text/plain": [
       "3.5"
      ]
     },
     "execution_count": 77,
     "metadata": {},
     "output_type": "execute_result"
    }
   ],
   "source": [
    "evenData = np.array([1,3,5,2,3,7,8,4,10,0,6,7,3,0,3,0,5,7,10,1,4,3])\n",
    "compute_median(evenData)"
   ]
  },
  {
   "cell_type": "code",
   "execution_count": null,
   "metadata": {},
   "outputs": [],
   "source": []
  },
  {
   "cell_type": "code",
   "execution_count": null,
   "metadata": {},
   "outputs": [],
   "source": []
  }
 ],
 "metadata": {
  "kernelspec": {
   "display_name": "Python 3",
   "language": "python",
   "name": "python3"
  },
  "language_info": {
   "codemirror_mode": {
    "name": "ipython",
    "version": 3
   },
   "file_extension": ".py",
   "mimetype": "text/x-python",
   "name": "python",
   "nbconvert_exporter": "python",
   "pygments_lexer": "ipython3",
   "version": "3.7.4"
  }
 },
 "nbformat": 4,
 "nbformat_minor": 2
}
