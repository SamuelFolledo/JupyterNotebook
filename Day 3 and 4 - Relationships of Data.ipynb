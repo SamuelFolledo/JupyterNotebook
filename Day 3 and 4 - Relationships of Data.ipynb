{
 "cells": [
  {
   "cell_type": "code",
   "execution_count": 4,
   "metadata": {},
   "outputs": [],
   "source": [
    "def calculateIncome(base_salary, rate, years):\n",
    "    salary = 0\n",
    "    for year in range(1, years+1):\n",
    "        if year == 1:\n",
    "            salary = base_salary\n",
    "        else:\n",
    "            salary += round(salary * rate)\n",
    "        print(f\"Year {year}: ${salary}\")"
   ]
  },
  {
   "cell_type": "code",
   "execution_count": 5,
   "metadata": {},
   "outputs": [
    {
     "name": "stdout",
     "output_type": "stream",
     "text": [
      "Year 1: $115000\n",
      "Year 2: $118450\n",
      "Year 3: $122004\n",
      "Year 4: $125664\n",
      "Year 5: $129434\n",
      "Year 6: $133317\n",
      "Year 7: $137317\n",
      "Year 8: $141437\n",
      "Year 9: $145680\n",
      "Year 10: $150050\n"
     ]
    }
   ],
   "source": [
    "calculateIncome(115000, 0.03, 10)"
   ]
  },
  {
   "cell_type": "code",
   "execution_count": 2,
   "metadata": {},
   "outputs": [
    {
     "data": {
      "text/plain": [
       "Text(0, 0.5, 'Water Drinks (Litre)')"
      ]
     },
     "execution_count": 2,
     "metadata": {},
     "output_type": "execute_result"
    }
   ],
   "source": [
    "import numpy as np\n",
    "import matplotlib.pyplot as plt\n",
    "\n",
    "# Running Distance in Mile\n",
    "X = np.array([3.3,4.4,5.5,6.71,6.93,4.168,9.779,6.182,7.59,2.167,\n",
    "                         7.042,10.791,5.313,7.997,5.654,9.27,3.1])\n",
    "\n",
    "# Water Drinks in Litre\n",
    "Y = np.array([1.7,2.76,2.09,3.19,1.694,1.573,3.366,2.596,2.53,1.221,\n",
    "                         2.827,3.465,1.65,2.904,2.42,2.94,1.3])\n",
    "\n",
    "plt.scatter(X, Y)\n",
    "plt.xlabel('Running Distance (Mile)')\n",
    "plt.ylabel('Water Drinks (Litre)')"
   ]
  },
  {
   "cell_type": "code",
   "execution_count": 9,
   "metadata": {},
   "outputs": [
    {
     "name": "stdout",
     "output_type": "stream",
     "text": [
      "X = [ 3.3    4.4    5.5    6.71   6.93   4.168  9.779  6.182  7.59   2.167\n",
      "  7.042 10.791  5.313  7.997  5.654  9.27   3.1  ]\n",
      "Y = [1.7   2.76  2.09  3.19  1.694 1.573 3.366 2.596 2.53  1.221 2.827 3.465\n",
      " 1.65  2.904 2.42  2.94  1.3  ]\n",
      "Predicted Y Values are = [2.6099999999999994, 3.38, 4.1499999999999995, 4.997, 5.150999999999999, 3.2175999999999996, 7.1453, 4.6274, 5.6129999999999995, 1.8168999999999997, 5.229399999999999, 7.8537, 4.0191, 5.897899999999999, 4.2578, 6.788999999999999, 2.4699999999999998]\n"
     ]
    },
    {
     "data": {
      "text/plain": [
       "[<matplotlib.lines.Line2D at 0x115baa690>]"
      ]
     },
     "execution_count": 9,
     "metadata": {},
     "output_type": "execute_result"
    },
    {
     "data": {
      "image/png": "[encoded data removed]",
      "text/plain": [
       "<Figure size 432x288 with 1 Axes>"
      ]
     },
     "metadata": {
      "needs_background": "light"
     },
     "output_type": "display_data"
    }
   ],
   "source": [
    "predicted_y_values = list(map(lambda x: 0.7*x + 0.3, X))\n",
    "print(f\"X = {X}\")\n",
    "print(f\"Y = {Y}\")\n",
    "print(f\"Predicted Y Values are = {predicted_y_values}\")\n",
    "plt.scatter(X, Y)\n",
    "plt.plot(X, predicted_y_values, 'ro-') #3) 30mins - plotted in red color"
   ]
  },
  {
   "cell_type": "code",
   "execution_count": 11,
   "metadata": {},
   "outputs": [
    {
     "name": "stdout",
     "output_type": "stream",
     "text": [
      "Y = [1.7   2.76  2.09  3.19  1.694 1.573 3.366 2.596 2.53  1.221 2.827 3.465\n",
      " 1.65  2.904 2.42  2.94  1.3  ]\n",
      "Predicted Y = [2.6099999999999994, 3.38, 4.1499999999999995, 4.997, 5.150999999999999, 3.2175999999999996, 7.1453, 4.6274, 5.6129999999999995, 1.8168999999999997, 5.229399999999999, 7.8537, 4.0191, 5.897899999999999, 4.2578, 6.788999999999999, 2.4699999999999998]\n",
      "Error = [-0.9099999999999995, -0.6200000000000001, -2.0599999999999996, -1.807, -3.456999999999999, -1.6445999999999996, -3.7792999999999997, -2.0313999999999997, -3.0829999999999997, -0.5958999999999997, -2.402399999999999, -4.3887, -2.3691, -2.993899999999999, -1.8377999999999997, -3.848999999999999, -1.1699999999999997]\n"
     ]
    },
    {
     "data": {
      "text/plain": [
       "1.3343514911764705"
      ]
     },
     "execution_count": 11,
     "metadata": {},
     "output_type": "execute_result"
    }
   ],
   "source": [
    "error = [(i-j) for i, j in zip(Y, predicted_y_values)] \n",
    "print(f\"Y = {Y}\")\n",
    "print(f\"Predicted Y = {predicted_y_values}\")\n",
    "print(f\"Error = {error}\")\n",
    "np.var(error, ddof=1)"
   ]
  },
  {
   "cell_type": "code",
   "execution_count": 14,
   "metadata": {},
   "outputs": [
    {
     "data": {
      "text/plain": [
       "0.15385767404191164"
      ]
     },
     "execution_count": 14,
     "metadata": {},
     "output_type": "execute_result"
    }
   ],
   "source": [
    "#MSE\n",
    "sum([i**2 for i in error])/len(error) #42min"
   ]
  },
  {
   "cell_type": "code",
   "execution_count": 11,
   "metadata": {},
   "outputs": [
    {
     "data": {
      "text/plain": [
       "[<matplotlib.lines.Line2D at 0x117b1ec10>]"
      ]
     },
     "execution_count": 11,
     "metadata": {},
     "output_type": "execute_result"
    },
    {
     "data": {
      "image/png": "[encoded data removed]",
      "text/plain": [
       "<Figure size 432x288 with 1 Axes>"
      ]
     },
     "metadata": {
      "needs_background": "light"
     },
     "output_type": "display_data"
    }
   ],
   "source": [
    "predicted_y_values = list(map(lambda x: 0.25163494*x + 0.79880123, X)) #(Day3 37m) IMPORTANT to learn this line\n",
    "plt.scatter(X,Y)\n",
    "plt.plot(X, predicted_y_values, 'ro-') #red line"
   ]
  },
  {
   "cell_type": "code",
   "execution_count": 16,
   "metadata": {},
   "outputs": [
    {
     "data": {
      "text/plain": [
       "0.16347377866953056"
      ]
     },
     "execution_count": 16,
     "metadata": {},
     "output_type": "execute_result"
    }
   ],
   "source": [
    "error = [(i-j) for i, j in zip(Y, predicted_y_values)]\n",
    "np.var(error, ddof=1)"
   ]
  },
  {
   "cell_type": "code",
   "execution_count": null,
   "metadata": {},
   "outputs": [],
   "source": []
  },
  {
   "cell_type": "code",
   "execution_count": null,
   "metadata": {},
   "outputs": [],
   "source": []
  },
  {
   "cell_type": "code",
   "execution_count": 21,
   "metadata": {},
   "outputs": [
    {
     "name": "stdout",
     "output_type": "stream",
     "text": [
      "7\n",
      "3\n"
     ]
    }
   ],
   "source": [
    "data = np.array([1, 3, 5, 2, 3, 7, 8, 4, 10, 0, 6, 7, 3, 0, 3, 0, 5, 7, 10, 1, 4, 9, 3])\n",
    "\n",
    "# for i in data {\n",
    "#     count = len(data)\n",
    "#     print()\n",
    "# }\n",
    "\n",
    "def percentile(data, percent):\n",
    "    #first we want to sort the data in ascending order\n",
    "    data = np.sort(data)\n",
    "    #then we will get the index\n",
    "    \n",
    "    index = (percent/100)* len(data)\n",
    "    \n",
    "    #we will have to round up to the nearest whole number using the ceiling method and covert to an int\n",
    "    index = int(np.ceil(index))\n",
    "    \n",
    "    return data[index-1] #adjust by -1 since indices start with 0\n",
    "    \n",
    "print(percentile(data, 80))\n",
    "#check your work by comparing to numpy.percentile()\n",
    "print(int(np.percentile(data, 44)))"
   ]
  },
  {
   "cell_type": "markdown",
   "metadata": {},
   "source": [
    "# Day 4"
   ]
  },
  {
   "cell_type": "code",
   "execution_count": 17,
   "metadata": {},
   "outputs": [
    {
     "name": "stdout",
     "output_type": "stream",
     "text": [
      "3.3079338613299516\n",
      "(0.8323917528894437, 3.391952640710603e-05)\n"
     ]
    }
   ],
   "source": [
    "import numpy as np\n",
    "import matplotlib.pyplot as plt\n",
    "import scipy.stats\n",
    "\n",
    "\n",
    "#df = pd.read_csv(titanic.csv)\n",
    "\n",
    "# Running Distance in Mile\n",
    "X = np.array([3.3,4.4,5.5,6.71,6.93,4.168,9.779,6.182,7.59,2.167,\n",
    "                         7.042,10.791,5.313,7.997,5.654,9.27,3.1])\n",
    "\n",
    "# Water Drinks in Litre\n",
    "Y = np.array([1.7,2.76,2.09,3.19,1.694,1.573,3.366,2.596,2.53,1.221,\n",
    "                         2.827,3.465,1.65,2.904,2.42,2.94,1.3])\n",
    "\n",
    "def pearson_corr(x,y):\n",
    "    x_mean = np.mean(x)\n",
    "    y_mean = np.mean(y)\n",
    "    num = sum([(i - x_mean)*(i - y_mean) for i,j in zip(x,y)])\n",
    "    den_1 = [(i - x_mean)**2 for i in x]\n",
    "    den_2 = [(j - y_mean)**2 for j in y]\n",
    "    correlation_x_y = np.sum(num) / np.sqrt(np.sum(den_1)) / np.sqrt(np.sum(den_2))\n",
    "    return correlation_x_y\n",
    "\n",
    "#print(pearson_corr(df['Fare'], df['Siblings/Spouses Aboard']))\n",
    "#print(scipy.stats.pearsonr(df['Fare'], df['Siblings/Spouses Aboard']))\n",
    "\n",
    "\n",
    "print(pearson_corr(X,Y))\n",
    "print(scipy.stats.pearsonr(X,Y))\n",
    "    "
   ]
  },
  {
   "cell_type": "code",
   "execution_count": null,
   "metadata": {},
   "outputs": [],
   "source": []
  },
  {
   "cell_type": "code",
   "execution_count": null,
   "metadata": {},
   "outputs": [],
   "source": []
  }
 ],
 "metadata": {
  "kernelspec": {
   "display_name": "Python 3",
   "language": "python",
   "name": "python3"
  },
  "language_info": {
   "codemirror_mode": {
    "name": "ipython",
    "version": 3
   },
   "file_extension": ".py",
   "mimetype": "text/x-python",
   "name": "python",
   "nbconvert_exporter": "python",
   "pygments_lexer": "ipython3",
   "version": "3.7.4"
  }
 },
 "nbformat": 4,
 "nbformat_minor": 2
}
