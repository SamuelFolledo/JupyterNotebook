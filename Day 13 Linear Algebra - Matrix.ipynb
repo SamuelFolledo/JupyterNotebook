{
 "cells": [
  {
   "cell_type": "code",
   "execution_count": null,
   "metadata": {},
   "outputs": [],
   "source": []
  },
  {
   "cell_type": "markdown",
   "metadata": {},
   "source": [
    "# Matrix Multiplication\n",
    "## Rules\n",
    "1. When A is m * n matrix, we can multiply A with a vector of size nx1\n",
    "    - A's row count should be equal to V's column count\n",
    "2. AxB __!=__ BxA in matrix multiplication"
   ]
  },
  {
   "cell_type": "code",
   "execution_count": 27,
   "metadata": {},
   "outputs": [
    {
     "name": "stdout",
     "output_type": "stream",
     "text": [
      "\n",
      "A matrix\n",
      " [[1 2]\n",
      " [0 1]\n",
      " [2 3]]\n",
      "\n",
      "V matrix\n",
      " [[2]\n",
      " [6]]\n",
      "\n",
      "Matrix multiplication\n",
      "[[14]\n",
      " [ 6]\n",
      " [22]]\n"
     ]
    }
   ],
   "source": [
    "import numpy as np\n",
    "A = np.array([[1,2],[0,1],[2,3]])\n",
    "V = np.array([[2],[6]])\n",
    "print(f\"\\nA matrix\\n\",A)\n",
    "print(f\"\\nV matrix\\n\",V)\n",
    "print(\"\\nMatrix multiplication\")\n",
    "print(np.dot(A,V)) #matrix multiplication\n"
   ]
  },
  {
   "cell_type": "code",
   "execution_count": null,
   "metadata": {},
   "outputs": [],
   "source": []
  },
  {
   "cell_type": "code",
   "execution_count": 28,
   "metadata": {},
   "outputs": [
    {
     "name": "stdout",
     "output_type": "stream",
     "text": [
      "\n",
      "A matrix\n",
      " [[1 2]\n",
      " [0 1]\n",
      " [2 3]]\n",
      "\n",
      "V matrix\n",
      " [[2 7]\n",
      " [6 3]]\n",
      "\n",
      "Matrix multiplication\n",
      "[[14 13]\n",
      " [ 6  3]\n",
      " [22 23]]\n"
     ]
    }
   ],
   "source": [
    "A = np.array([[1,2],[0,1],[2,3]])\n",
    "V = np.array([[2,7],[6,3]])\n",
    "print(f\"\\nA matrix\\n\",A)\n",
    "print(f\"\\nV matrix\\n\",V)\n",
    "print(\"\\nMatrix multiplication\")\n",
    "print(np.dot(A,V)) #matrix multiplication"
   ]
  },
  {
   "cell_type": "markdown",
   "metadata": {},
   "source": [
    "# Rule 2 AxB __!=__ BxA in matrix multiplication"
   ]
  },
  {
   "cell_type": "code",
   "execution_count": 29,
   "metadata": {},
   "outputs": [
    {
     "name": "stdout",
     "output_type": "stream",
     "text": [
      "\n",
      "A matrix\n",
      " [[1 2]\n",
      " [0 1]]\n",
      "\n",
      "V matrix\n",
      " [[2 7]\n",
      " [6 3]]\n",
      "\n",
      "Matrix multiplication AxV\n",
      "[[14 13]\n",
      " [ 6  3]]\n",
      "\n",
      "Matrix multiplication VxA\n",
      "[[ 2 11]\n",
      " [ 6 15]]\n"
     ]
    }
   ],
   "source": [
    "A = np.array([[1,2],[0,1]])\n",
    "V = np.array([[2,7],[6,3]])\n",
    "print(f\"\\nA matrix\\n\",A)\n",
    "print(f\"\\nV matrix\\n\",V)\n",
    "print(\"\\nMatrix multiplication AxV\")\n",
    "print(np.dot(A,V)) #matrix multiplication\n",
    "print(\"\\nMatrix multiplication VxA\")\n",
    "print(np.dot(V,A)) #matrix multiplication"
   ]
  },
  {
   "cell_type": "markdown",
   "metadata": {},
   "source": [
    "## Conditions where AxV == VxA"
   ]
  },
  {
   "cell_type": "code",
   "execution_count": 36,
   "metadata": {},
   "outputs": [
    {
     "name": "stdout",
     "output_type": "stream",
     "text": [
      "\n",
      "A matrix\n",
      " [[1 0]\n",
      " [0 1]]\n",
      "\n",
      "V matrix\n",
      " [[0 1]\n",
      " [1 0]]\n",
      "\n",
      "Matrix multiplication AxV\n",
      "[[0 1]\n",
      " [1 0]]\n",
      "\n",
      "Matrix multiplication VxA\n",
      "[[0 1]\n",
      " [1 0]]\n"
     ]
    }
   ],
   "source": [
    "A = np.array([[1,0],[0,1]])\n",
    "V = np.array([[0,1],[1,0]])\n",
    "print(f\"\\nA matrix\\n\",A)\n",
    "print(f\"\\nV matrix\\n\",V)\n",
    "print(\"\\nMatrix multiplication AxV\")\n",
    "print(np.dot(A,V)) #matrix multiplication\n",
    "print(\"\\nMatrix multiplication VxA\")\n",
    "print(np.dot(V,A)) #matrix multiplication"
   ]
  },
  {
   "cell_type": "markdown",
   "metadata": {},
   "source": [
    "# Question: Can we express linear regression in matrix-vector format?"
   ]
  },
  {
   "cell_type": "code",
   "execution_count": 38,
   "metadata": {},
   "outputs": [
    {
     "name": "stdout",
     "output_type": "stream",
     "text": [
      "[1.629196532, 1.905994966, 2.1827934, 2.4872716774, 2.5426313642, 1.84761565992, 3.25953930826, 2.3544084290800003, 2.7087104245999996, 1.34409414498, 2.57081447748, 3.51419386754, 2.13573766622, 2.81112584518, 2.2215451807599997, 3.1314571237999997, 1.578869544]\n"
     ]
    }
   ],
   "source": [
    "import matplotlib.pyplot as plt\n",
    "\n",
    "# Running Distance in Mile\n",
    "x = np.array([3.3,4.4,5.5,6.71,6.93,4.168,9.779,6.182,7.59,2.167,\n",
    "                         7.042,10.791,5.313,7.997,5.654,9.27,3.1])\n",
    "\n",
    "# Water Drinks in Litre\n",
    "y = np.array([1.7,2.76,2.09,3.19,1.694,1.573,3.366,2.596,2.53,1.221,\n",
    "                         2.827,3.465,1.65,2.904,2.42,2.94,1.3])\n",
    "#We can obtain the prediction vector as the following:\n",
    "\n",
    "w1 = 0.25163494 \n",
    "w0 = 0.79880123 \n",
    "y_pred = [w1*i + w0 for i in x]\n",
    "print(y_pred)"
   ]
  },
  {
   "cell_type": "code",
   "execution_count": null,
   "metadata": {},
   "outputs": [],
   "source": []
  },
  {
   "cell_type": "code",
   "execution_count": 40,
   "metadata": {},
   "outputs": [
    {
     "name": "stdout",
     "output_type": "stream",
     "text": [
      "[[ 3.3    1.   ]\n",
      " [ 4.4    1.   ]\n",
      " [ 5.5    1.   ]\n",
      " [ 6.71   1.   ]\n",
      " [ 6.93   1.   ]\n",
      " [ 4.168  1.   ]\n",
      " [ 9.779  1.   ]\n",
      " [ 6.182  1.   ]\n",
      " [ 7.59   1.   ]\n",
      " [ 2.167  1.   ]\n",
      " [ 7.042  1.   ]\n",
      " [10.791  1.   ]\n",
      " [ 5.313  1.   ]\n",
      " [ 7.997  1.   ]\n",
      " [ 5.654  1.   ]\n",
      " [ 9.27   1.   ]\n",
      " [ 3.1    1.   ]]\n"
     ]
    }
   ],
   "source": [
    "# print(np.transpose([x]))\n",
    "# Concatenate two matrix column-wise \n",
    "X = np.concatenate((np.transpose([x]), np.ones((len(x), 1))), axis=1)\n",
    "print(X)"
   ]
  },
  {
   "cell_type": "code",
   "execution_count": 43,
   "metadata": {},
   "outputs": [
    {
     "ename": "NameError",
     "evalue": "name 'v_ones' is not defined",
     "output_type": "error",
     "traceback": [
      "\u001b[0;31m---------------------------------------------------------------------------\u001b[0m",
      "\u001b[0;31mNameError\u001b[0m                                 Traceback (most recent call last)",
      "\u001b[0;32m<ipython-input-43-152aad36d2a7>\u001b[0m in \u001b[0;36m<module>\u001b[0;34m\u001b[0m\n\u001b[1;32m      1\u001b[0m \u001b[0;31m# Another way\u001b[0m\u001b[0;34m\u001b[0m\u001b[0;34m\u001b[0m\u001b[0;34m\u001b[0m\u001b[0m\n\u001b[0;32m----> 2\u001b[0;31m \u001b[0mprint\u001b[0m\u001b[0;34m(\u001b[0m\u001b[0mv_ones\u001b[0m\u001b[0;34m)\u001b[0m\u001b[0;34m\u001b[0m\u001b[0;34m\u001b[0m\u001b[0m\n\u001b[0m\u001b[1;32m      3\u001b[0m \u001b[0mX\u001b[0m \u001b[0;34m=\u001b[0m \u001b[0mnp\u001b[0m\u001b[0;34m.\u001b[0m\u001b[0marray\u001b[0m\u001b[0;34m(\u001b[0m\u001b[0;34m[\u001b[0m\u001b[0mx\u001b[0m\u001b[0;34m,\u001b[0m \u001b[0mnp\u001b[0m\u001b[0;34m.\u001b[0m\u001b[0mones\u001b[0m\u001b[0;34m(\u001b[0m\u001b[0;34m(\u001b[0m\u001b[0;36m1\u001b[0m\u001b[0;34m,\u001b[0m \u001b[0mlen\u001b[0m\u001b[0;34m(\u001b[0m\u001b[0mx\u001b[0m\u001b[0;34m)\u001b[0m\u001b[0;34m)\u001b[0m\u001b[0;34m)\u001b[0m\u001b[0;34m]\u001b[0m\u001b[0;34m)\u001b[0m\u001b[0;34m\u001b[0m\u001b[0;34m\u001b[0m\u001b[0m\n\u001b[1;32m      4\u001b[0m \u001b[0mprint\u001b[0m\u001b[0;34m(\u001b[0m\u001b[0mX\u001b[0m\u001b[0;34m)\u001b[0m\u001b[0;34m\u001b[0m\u001b[0;34m\u001b[0m\u001b[0m\n\u001b[1;32m      5\u001b[0m \u001b[0mw\u001b[0m \u001b[0;34m=\u001b[0m \u001b[0mnp\u001b[0m\u001b[0;34m.\u001b[0m\u001b[0marray\u001b[0m\u001b[0;34m(\u001b[0m\u001b[0;34m[\u001b[0m\u001b[0mw1\u001b[0m\u001b[0;34m,\u001b[0m \u001b[0mw0\u001b[0m\u001b[0;34m]\u001b[0m\u001b[0;34m)\u001b[0m\u001b[0;34m\u001b[0m\u001b[0;34m\u001b[0m\u001b[0m\n",
      "\u001b[0;31mNameError\u001b[0m: name 'v_ones' is not defined"
     ]
    }
   ],
   "source": [
    "# Another way\n",
    "print(v_ones)\n",
    "X = np.array([x, np.ones((1, len(x)))])\n",
    "print(X)\n",
    "w = np.array([w1, w0])\n",
    "np.dot(w, X)\n"
   ]
  },
  {
   "cell_type": "markdown",
   "metadata": {},
   "source": [
    "# Transpose array.T"
   ]
  },
  {
   "cell_type": "code",
   "execution_count": 48,
   "metadata": {},
   "outputs": [
    {
     "name": "stdout",
     "output_type": "stream",
     "text": [
      "[[1 0 2]\n",
      " [2 1 3]]\n"
     ]
    }
   ],
   "source": [
    "A = np.array([[1,2],[0,1],[2,3]])\n",
    "V = np.array([[2],[6]])\n",
    "print(A.T) #.T transpose a matrix"
   ]
  },
  {
   "cell_type": "code",
   "execution_count": null,
   "metadata": {},
   "outputs": [],
   "source": []
  },
  {
   "cell_type": "markdown",
   "metadata": {},
   "source": [
    "# Norm"
   ]
  },
  {
   "cell_type": "code",
   "execution_count": 49,
   "metadata": {},
   "outputs": [
    {
     "data": {
      "text/plain": [
       "5.0"
      ]
     },
     "execution_count": 49,
     "metadata": {},
     "output_type": "execute_result"
    }
   ],
   "source": [
    "from numpy import linalg as LA\n",
    "v = np.array([3, 4])\n",
    "LA.norm(v)"
   ]
  },
  {
   "cell_type": "code",
   "execution_count": 51,
   "metadata": {},
   "outputs": [
    {
     "data": {
      "text/plain": [
       "5.0"
      ]
     },
     "execution_count": 51,
     "metadata": {},
     "output_type": "execute_result"
    }
   ],
   "source": [
    "\n",
    "V = np.array([3, 4])\n",
    "np.sqrt(np.dot(V,V.T))"
   ]
  },
  {
   "cell_type": "code",
   "execution_count": null,
   "metadata": {},
   "outputs": [],
   "source": []
  },
  {
   "cell_type": "code",
   "execution_count": 52,
   "metadata": {},
   "outputs": [],
   "source": [
    "# What is the distance between two vector u and v"
   ]
  },
  {
   "cell_type": "code",
   "execution_count": 59,
   "metadata": {},
   "outputs": [
    {
     "name": "stdout",
     "output_type": "stream",
     "text": [
      "u-v = [-1 -1]\n",
      "norm(u-v) = 1.4142135623730951\n",
      "norm(u-r) = 7.280109889280518\n",
      "norm(v-r) = 6.082762530298219\n"
     ]
    }
   ],
   "source": [
    "u = np.array([1,1])\n",
    "v = np.array([2,2])\n",
    "r = np.array([3,8])\n",
    "print(f\"u-v =\",u-v)\n",
    "print(f\"norm(u-v) =\",LA.norm(u-v))\n",
    "print(f\"norm(u-r) =\",LA.norm(u-r))\n",
    "print(f\"norm(v-r) =\",LA.norm(v-r))"
   ]
  },
  {
   "cell_type": "code",
   "execution_count": null,
   "metadata": {},
   "outputs": [],
   "source": []
  }
 ],
 "metadata": {
  "kernelspec": {
   "display_name": "Python 3",
   "language": "python",
   "name": "python3"
  },
  "language_info": {
   "codemirror_mode": {
    "name": "ipython",
    "version": 3
   },
   "file_extension": ".py",
   "mimetype": "text/x-python",
   "name": "python",
   "nbconvert_exporter": "python",
   "pygments_lexer": "ipython3",
   "version": "3.7.4"
  }
 },
 "nbformat": 4,
 "nbformat_minor": 2
}
